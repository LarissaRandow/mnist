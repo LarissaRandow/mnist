{
  "nbformat": 4,
  "nbformat_minor": 0,
  "metadata": {
    "colab": {
      "provenance": [],
      "authorship_tag": "ABX9TyOorUOGs/+7kXooVLT4q1Ht",
      "include_colab_link": true
    },
    "kernelspec": {
      "name": "python3",
      "display_name": "Python 3"
    },
    "language_info": {
      "name": "python"
    }
  },
  "cells": [
    {
      "cell_type": "markdown",
      "metadata": {
        "id": "view-in-github",
        "colab_type": "text"
      },
      "source": [
        "<a href=\"https://colab.research.google.com/github/LarissaRandow/mnist/blob/main/Mnist.ipynb\" target=\"_parent\"><img src=\"https://colab.research.google.com/assets/colab-badge.svg\" alt=\"Open In Colab\"/></a>"
      ]
    },
    {
      "cell_type": "markdown",
      "source": [
        "Dataset Test"
      ],
      "metadata": {
        "id": "mzIgXs8_Hfr6"
      }
    },
    {
      "cell_type": "code",
      "execution_count": 1,
      "metadata": {
        "id": "xekbt2O9IOJW"
      },
      "outputs": [],
      "source": [
        "import numpy as np\n",
        "\n",
        "file_path = '/content/sample_data/mnist_test.csv'\n",
        "\n",
        "mnist_data = np.loadtxt(file_path, delimiter=',')\n",
        "\n",
        "labels = mnist_data[:, 0]\n",
        "images = mnist_data[:, 1:]\n",
        "\n",
        "images = images.reshape(images.shape[0], 28, 28)\n",
        "\n",
        "test_images = images[:10000]\n",
        "test_labels = labels[:10000]"
      ]
    },
    {
      "cell_type": "code",
      "source": [
        "import matplotlib.pyplot as plt\n",
        "%matplotlib inline\n",
        "\n",
        "plt.imshow(test_images[0], cmap='gray')\n",
        "plt.show()\n",
        "test_labels[0]"
      ],
      "metadata": {
        "colab": {
          "base_uri": "https://localhost:8080/",
          "height": 447
        },
        "id": "fMWSFm4lKsYs",
        "outputId": "b6e62c5d-9318-4a4c-e3b1-b5d311504093"
      },
      "execution_count": 2,
      "outputs": [
        {
          "output_type": "display_data",
          "data": {
            "text/plain": [
              "<Figure size 640x480 with 1 Axes>"
            ],
            "image/png": "[encoded data removed]"
          },
          "metadata": {}
        },
        {
          "output_type": "execute_result",
          "data": {
            "text/plain": [
              "7.0"
            ]
          },
          "metadata": {},
          "execution_count": 2
        }
      ]
    },
    {
      "cell_type": "markdown",
      "source": [
        "Dataset Train"
      ],
      "metadata": {
        "id": "5osBVahmHl2J"
      }
    },
    {
      "cell_type": "code",
      "source": [
        "file_path = '/content/sample_data/mnist_train.csv'\n",
        "\n",
        "\n",
        "mnist_data = np.loadtxt(file_path, delimiter=',')\n",
        "\n",
        "labels = mnist_data[:, 0]\n",
        "images = mnist_data[:, 1:]\n",
        "\n",
        "images = images.reshape(images.shape[0], 28, 28)\n",
        "\n",
        "train_images = images[:10000]\n",
        "train_labels = labels[:10000]"
      ],
      "metadata": {
        "id": "ydbwDL9vGYKI"
      },
      "execution_count": 3,
      "outputs": []
    },
    {
      "cell_type": "code",
      "source": [
        "import matplotlib.pyplot as plt\n",
        "%matplotlib inline\n",
        "\n",
        "plt.imshow(train_images[0], cmap='gray')\n",
        "plt.show()\n",
        "train_labels[0]"
      ],
      "metadata": {
        "colab": {
          "base_uri": "https://localhost:8080/",
          "height": 447
        },
        "id": "o-NsdAJLGiSm",
        "outputId": "db22d523-f6bf-4fc4-88f7-71ca318f3ce2"
      },
      "execution_count": 4,
      "outputs": [
        {
          "output_type": "display_data",
          "data": {
            "text/plain": [
              "<Figure size 640x480 with 1 Axes>"
            ],
            "image/png": "[encoded data removed]"
          },
          "metadata": {}
        },
        {
          "output_type": "execute_result",
          "data": {
            "text/plain": [
              "5.0"
            ]
          },
          "metadata": {},
          "execution_count": 4
        }
      ]
    },
    {
      "cell_type": "code",
      "source": [
        "from sklearn.base import BaseEstimator, ClassifierMixin, TransformerMixin\n",
        "from sklearn.metrics import accuracy_score\n",
        "import numpy as np\n",
        "from sklearn.pipeline import Pipeline\n",
        "from tensorflow.keras.utils import to_categorical\n",
        "import keras\n",
        "from tensorflow.keras import layers"
      ],
      "metadata": {
        "id": "FmxY88D_I3vJ"
      },
      "execution_count": 5,
      "outputs": []
    },
    {
      "cell_type": "code",
      "source": [
        "class DividePor255(BaseEstimator, TransformerMixin):\n",
        "  def fit(self, X, y):\n",
        "    return self\n",
        "  def transform(self, X, y=None):\n",
        "    return X.astype(\"float32\") / 255"
      ],
      "metadata": {
        "id": "5E2kjYYgJI5_"
      },
      "execution_count": 6,
      "outputs": []
    },
    {
      "cell_type": "code",
      "source": [
        "class RedeNeural(BaseEstimator, ClassifierMixin):\n",
        "  def __init__(self, epochs=5, batch_size=128):\n",
        "    self.epochs = epochs\n",
        "    self.batch_size = batch_size\n",
        "  def fit(self, X, y):\n",
        "    self.labels, ids = np.unique(y, return_inverse=True)\n",
        "    yhot = keras.utils.to_categorical(ids)\n",
        "    self.model = keras.Sequential([\n",
        "        layers.Conv2D(4, 4, activation=\"relu\"),\n",
        "        layers.Flatten(),\n",
        "        layers.Dense(512, activation=\"relu\"),\n",
        "        layers.Dense(yhot.shape[1], activation=\"softmax\")\n",
        "    ])\n",
        "    self.model.compile(optimizer=\"rmsprop\",\n",
        "                       loss=\"categorical_crossentropy\",\n",
        "                       metrics=[\"accuracy\"])\n",
        "    self.model.fit(X, yhot, epochs=self.epochs, batch_size=self.batch_size)\n",
        "    return self\n",
        "  def predict(self, X, y=None):\n",
        "    probabilities = self.model.predict(X)\n",
        "    ypred = self.labels[np.argmax(probabilities, axis=1)]\n",
        "    return ypred\n",
        "\n",
        "class MudaShape(BaseEstimator, TransformerMixin):\n",
        "  def fit(self, X, y):\n",
        "    return self\n",
        "  def transform(self, X, y=None):\n",
        "    return X.reshape((-1, 28, 28, 1))\n",
        "\n",
        "modelo = Pipeline([\n",
        "    (\"scaler\", DividePor255()),\n",
        "    (\"reshape\", MudaShape()),\n",
        "    (\"ann\", RedeNeural())\n",
        "])\n",
        "\n",
        "modelo.fit(train_images, train_labels)\n",
        "ypred = modelo.predict(test_images)\n",
        "accuracy_score(test_labels, ypred)"
      ],
      "metadata": {
        "colab": {
          "base_uri": "https://localhost:8080/"
        },
        "id": "FV0pzQ74Izgp",
        "outputId": "61c7e036-b49b-4143-cda9-5cbbfd0d3af4"
      },
      "execution_count": 7,
      "outputs": [
        {
          "output_type": "stream",
          "name": "stdout",
          "text": [
            "Epoch 1/5\n",
            "79/79 [==============================] - 6s 61ms/step - loss: 0.5087 - accuracy: 0.8464\n",
            "Epoch 2/5\n",
            "79/79 [==============================] - 4s 47ms/step - loss: 0.2108 - accuracy: 0.9374\n",
            "Epoch 3/5\n",
            "79/79 [==============================] - 4s 48ms/step - loss: 0.1376 - accuracy: 0.9596\n",
            "Epoch 4/5\n",
            "79/79 [==============================] - 5s 69ms/step - loss: 0.0957 - accuracy: 0.9718\n",
            "Epoch 5/5\n",
            "79/79 [==============================] - 4s 48ms/step - loss: 0.0677 - accuracy: 0.9799\n",
            "313/313 [==============================] - 2s 7ms/step\n"
          ]
        },
        {
          "output_type": "execute_result",
          "data": {
            "text/plain": [
              "0.8864"
            ]
          },
          "metadata": {},
          "execution_count": 7
        }
      ]
    },
    {
      "cell_type": "code",
      "source": [
        "def define_arquitetura(output_shape):\n",
        "  model = keras.Sequential([\n",
        "    layers.Conv2D(4, 4, activation=\"relu\"),\n",
        "    layers.Flatten(),\n",
        "    layers.Dense(512, activation=\"relu\"),\n",
        "    layers.Dense(output_shape, activation=\"softmax\")\n",
        "  ])\n",
        "  return model\n",
        "\n",
        "class RedeNeural(BaseEstimator, ClassifierMixin):\n",
        "  def __init__(self, epochs=5, batch_size=128):\n",
        "    self.epochs = epochs\n",
        "    self.batch_size = batch_size\n",
        "  def fit(self, X, y):\n",
        "    self.labels, ids = np.unique(y, return_inverse=True)\n",
        "    yhot = keras.utils.to_categorical(ids)\n",
        "    self.model = define_arquitetura(yhot.shape[1])\n",
        "    self.model.compile(optimizer=\"rmsprop\",\n",
        "                       loss=\"categorical_crossentropy\",\n",
        "                       metrics=[\"accuracy\"])\n",
        "    self.model.fit(X, yhot, epochs=self.epochs, batch_size=self.batch_size)\n",
        "    return self\n",
        "  def predict(self, X, y=None):\n",
        "    probabilities = self.model.predict(X)\n",
        "    ypred = self.labels[np.argmax(probabilities, axis=1)]\n",
        "    return ypred\n",
        "\n",
        "modelo = Pipeline([\n",
        "    (\"scaler\", DividePor255()),\n",
        "    (\"reshape\", MudaShape()),\n",
        "    (\"ann\", RedeNeural())\n",
        "])\n",
        "\n",
        "modelo.fit(train_images, train_labels)\n",
        "ypred = modelo.predict(test_images)\n",
        "accuracy_score(test_labels, ypred)"
      ],
      "metadata": {
        "colab": {
          "base_uri": "https://localhost:8080/"
        },
        "id": "D6JVoVytJ7gK",
        "outputId": "e7afa539-eb7b-468b-8757-d14212adf4a0"
      },
      "execution_count": 8,
      "outputs": [
        {
          "output_type": "stream",
          "name": "stdout",
          "text": [
            "Epoch 1/5\n",
            "79/79 [==============================] - 4s 49ms/step - loss: 0.5366 - accuracy: 0.8398\n",
            "Epoch 2/5\n",
            "79/79 [==============================] - 4s 50ms/step - loss: 0.2195 - accuracy: 0.9335\n",
            "Epoch 3/5\n",
            "79/79 [==============================] - 5s 67ms/step - loss: 0.1446 - accuracy: 0.9570\n",
            "Epoch 4/5\n",
            "79/79 [==============================] - 4s 48ms/step - loss: 0.0964 - accuracy: 0.9724\n",
            "Epoch 5/5\n",
            "79/79 [==============================] - 4s 48ms/step - loss: 0.0634 - accuracy: 0.9815\n",
            "313/313 [==============================] - 4s 12ms/step\n"
          ]
        },
        {
          "output_type": "execute_result",
          "data": {
            "text/plain": [
              "0.9574"
            ]
          },
          "metadata": {},
          "execution_count": 8
        }
      ]
    },
    {
      "cell_type": "code",
      "source": [
        "def define_arquitetura(input_shape, output_shape):\n",
        "  model = keras.Sequential([\n",
        "    layers.Input(input_shape),\n",
        "    layers.Dense(512, activation=\"relu\"),\n",
        "    layers.Dense(output_shape, activation=\"softmax\")\n",
        "  ])\n",
        "  return model\n",
        "\n",
        "class RedeNeural(BaseEstimator, ClassifierMixin):\n",
        "  def __init__(self, epochs=5, batch_size=128):\n",
        "    self.epochs = epochs\n",
        "    self.batch_size = batch_size\n",
        "  def fit(self, X, y):\n",
        "    self.labels, ids = np.unique(y, return_inverse=True)\n",
        "    yhot = keras.utils.to_categorical(ids)\n",
        "    self.model = define_arquitetura(X.shape[1], yhot.shape[1])\n",
        "    self.model.compile(optimizer=\"rmsprop\",\n",
        "                       loss=\"categorical_crossentropy\",\n",
        "                       metrics=[\"accuracy\"])\n",
        "    self.model.fit(X, yhot, epochs=self.epochs, batch_size=self.batch_size)\n",
        "    return self\n",
        "  def predict(self, X, y=None):\n",
        "    probabilities = self.model.predict(X)\n",
        "    ypred = self.labels[np.argmax(probabilities, axis=1)]\n",
        "    return ypred\n",
        "\n",
        "class MudaShape(BaseEstimator, TransformerMixin):\n",
        "  def fit(self, X, y):\n",
        "    return self\n",
        "  def transform(self, X, y=None):\n",
        "    return X.reshape((-1, 28 * 28))\n",
        "\n",
        "modelo = Pipeline([\n",
        "    (\"scaler\", DividePor255()),\n",
        "    (\"reshape\", MudaShape()),\n",
        "    (\"ann\", RedeNeural())\n",
        "])\n",
        "\n",
        "modelo.fit(train_images, train_labels)\n",
        "ypred = modelo.predict(test_images)\n",
        "accuracy_score(test_labels, ypred)"
      ],
      "metadata": {
        "colab": {
          "base_uri": "https://localhost:8080/"
        },
        "id": "_5zP-UapKKNF",
        "outputId": "b9f5bf76-c65c-4f56-ee34-e5d304b64899"
      },
      "execution_count": 9,
      "outputs": [
        {
          "output_type": "stream",
          "name": "stdout",
          "text": [
            "Epoch 1/5\n",
            "79/79 [==============================] - 3s 24ms/step - loss: 0.5358 - accuracy: 0.8512\n",
            "Epoch 2/5\n",
            "79/79 [==============================] - 1s 18ms/step - loss: 0.2559 - accuracy: 0.9268\n",
            "Epoch 3/5\n",
            "79/79 [==============================] - 1s 19ms/step - loss: 0.1898 - accuracy: 0.9441\n",
            "Epoch 4/5\n",
            "79/79 [==============================] - 1s 18ms/step - loss: 0.1404 - accuracy: 0.9623\n",
            "Epoch 5/5\n",
            "79/79 [==============================] - 1s 9ms/step - loss: 0.1125 - accuracy: 0.9692\n",
            "313/313 [==============================] - 1s 3ms/step\n"
          ]
        },
        {
          "output_type": "execute_result",
          "data": {
            "text/plain": [
              "0.9432"
            ]
          },
          "metadata": {},
          "execution_count": 9
        }
      ]
    },
    {
      "cell_type": "code",
      "source": [
        "def define_arquitetura(input_shape, output_shape):\n",
        "  inputs = keras.Input(shape=input_shape)\n",
        "  x = layers.Dense(512, activation=\"relu\")(inputs)\n",
        "  outputs = layers.Dense(output_shape, activation=\"softmax\")(x)\n",
        "  return keras.Model(inputs=inputs, outputs=outputs)\n",
        "\n",
        "class MudaShape(BaseEstimator, TransformerMixin):\n",
        "  def fit(self, X, y):\n",
        "    return self\n",
        "  def transform(self, X, y=None):\n",
        "    return X.reshape((-1, 28 * 28))\n",
        "\n",
        "modelo = Pipeline([\n",
        "    (\"scaler\", DividePor255()),\n",
        "    (\"reshape\", MudaShape()),\n",
        "    (\"ann\", RedeNeural())\n",
        "])\n",
        "\n",
        "modelo.fit(train_images, train_labels)\n",
        "ypred = modelo.predict(test_images)\n",
        "accuracy_score(test_labels, ypred)"
      ],
      "metadata": {
        "colab": {
          "base_uri": "https://localhost:8080/"
        },
        "id": "itnzo8u2KP-P",
        "outputId": "edecb944-cacb-4a5c-cb15-f5052e5f0f62"
      },
      "execution_count": 10,
      "outputs": [
        {
          "output_type": "stream",
          "name": "stdout",
          "text": [
            "Epoch 1/5\n",
            "79/79 [==============================] - 1s 9ms/step - loss: 0.5404 - accuracy: 0.8500\n",
            "Epoch 2/5\n",
            "79/79 [==============================] - 1s 9ms/step - loss: 0.2572 - accuracy: 0.9247\n",
            "Epoch 3/5\n",
            "79/79 [==============================] - 1s 9ms/step - loss: 0.1885 - accuracy: 0.9482\n",
            "Epoch 4/5\n",
            "79/79 [==============================] - 1s 9ms/step - loss: 0.1417 - accuracy: 0.9595\n",
            "Epoch 5/5\n",
            "79/79 [==============================] - 1s 12ms/step - loss: 0.1105 - accuracy: 0.9685\n",
            "313/313 [==============================] - 1s 4ms/step\n"
          ]
        },
        {
          "output_type": "execute_result",
          "data": {
            "text/plain": [
              "0.9435"
            ]
          },
          "metadata": {},
          "execution_count": 10
        }
      ]
    },
    {
      "cell_type": "code",
      "source": [
        "def define_arquitetura(input_shape, output_shape):\n",
        "  inputs = keras.Input(shape=input_shape)\n",
        "  x = layers.Conv2D(filters=32, kernel_size=3, activation=\"relu\")(inputs)\n",
        "  x = layers.MaxPooling2D(pool_size=2)(x)\n",
        "  x = layers.Conv2D(filters=64, kernel_size=3, activation=\"relu\")(x)\n",
        "  x = layers.MaxPooling2D(pool_size=2)(x)\n",
        "  x = layers.Conv2D(filters=128, kernel_size=3, activation=\"relu\")(x)\n",
        "  x = layers.Flatten()(x)\n",
        "  outputs = layers.Dense(output_shape, activation=\"softmax\")(x)\n",
        "  return keras.Model(inputs=inputs, outputs=outputs)\n",
        "\n",
        "model = define_arquitetura((28,28,1), 10)\n",
        "model.summary()"
      ],
      "metadata": {
        "colab": {
          "base_uri": "https://localhost:8080/"
        },
        "id": "zjsZrlKgKUf_",
        "outputId": "48ae6b6e-9ad3-4528-9034-65aaea0efec6"
      },
      "execution_count": 11,
      "outputs": [
        {
          "output_type": "stream",
          "name": "stdout",
          "text": [
            "Model: \"model_1\"\n",
            "_________________________________________________________________\n",
            " Layer (type)                Output Shape              Param #   \n",
            "=================================================================\n",
            " input_3 (InputLayer)        [(None, 28, 28, 1)]       0         \n",
            "                                                                 \n",
            " conv2d_2 (Conv2D)           (None, 26, 26, 32)        320       \n",
            "                                                                 \n",
            " max_pooling2d (MaxPooling2  (None, 13, 13, 32)        0         \n",
            " D)                                                              \n",
            "                                                                 \n",
            " conv2d_3 (Conv2D)           (None, 11, 11, 64)        18496     \n",
            "                                                                 \n",
            " max_pooling2d_1 (MaxPoolin  (None, 5, 5, 64)          0         \n",
            " g2D)                                                            \n",
            "                                                                 \n",
            " conv2d_4 (Conv2D)           (None, 3, 3, 128)         73856     \n",
            "                                                                 \n",
            " flatten_2 (Flatten)         (None, 1152)              0         \n",
            "                                                                 \n",
            " dense_8 (Dense)             (None, 10)                11530     \n",
            "                                                                 \n",
            "=================================================================\n",
            "Total params: 104202 (407.04 KB)\n",
            "Trainable params: 104202 (407.04 KB)\n",
            "Non-trainable params: 0 (0.00 Byte)\n",
            "_________________________________________________________________\n"
          ]
        }
      ]
    },
    {
      "cell_type": "code",
      "source": [
        "class RedeNeural(BaseEstimator, ClassifierMixin):\n",
        "  def __init__(self, epochs=5, batch_size=128):\n",
        "    self.epochs = epochs\n",
        "    self.batch_size = batch_size\n",
        "  def fit(self, X, y):\n",
        "    self.labels, ids = np.unique(y, return_inverse=True)\n",
        "    yhot = keras.utils.to_categorical(ids)\n",
        "    self.model = define_arquitetura(X.shape[1:], yhot.shape[1])\n",
        "    self.model.compile(optimizer=\"rmsprop\",\n",
        "                       loss=\"categorical_crossentropy\",\n",
        "                       metrics=[\"accuracy\"])\n",
        "    self.model.fit(X, yhot, epochs=self.epochs, batch_size=self.batch_size)\n",
        "    return self\n",
        "  def predict(self, X, y=None):\n",
        "    probabilities = self.model.predict(X)\n",
        "    ypred = self.labels[np.argmax(probabilities, axis=1)]\n",
        "    return ypred"
      ],
      "metadata": {
        "id": "IHMDFYMUKYgZ"
      },
      "execution_count": 12,
      "outputs": []
    },
    {
      "cell_type": "code",
      "source": [
        "class MudaShape(BaseEstimator, TransformerMixin):\n",
        "  def fit(self, X, y):\n",
        "    return self\n",
        "  def transform(self, X, y=None):\n",
        "    return X.reshape((-1, 28, 28, 1))"
      ],
      "metadata": {
        "id": "HnNu7jGIKaqk"
      },
      "execution_count": 13,
      "outputs": []
    },
    {
      "cell_type": "code",
      "source": [
        "modelo = Pipeline([\n",
        "    (\"scaler\", DividePor255()),\n",
        "    (\"reshape\", MudaShape()),\n",
        "    (\"ann\", RedeNeural())\n",
        "])\n",
        "\n",
        "modelo.fit(train_images, train_labels)\n",
        "ypred = modelo.predict(test_images)\n",
        "accuracy_score(test_labels, ypred)"
      ],
      "metadata": {
        "colab": {
          "base_uri": "https://localhost:8080/"
        },
        "id": "ERE_gxFfKciD",
        "outputId": "a49f03b0-c405-4a64-88aa-d5f83e676f51"
      },
      "execution_count": 14,
      "outputs": [
        {
          "output_type": "stream",
          "name": "stdout",
          "text": [
            "Epoch 1/5\n",
            "79/79 [==============================] - 8s 91ms/step - loss: 0.6830 - accuracy: 0.7899\n",
            "Epoch 2/5\n",
            "79/79 [==============================] - 9s 111ms/step - loss: 0.1979 - accuracy: 0.9419\n",
            "Epoch 3/5\n",
            "79/79 [==============================] - 7s 93ms/step - loss: 0.1266 - accuracy: 0.9616\n",
            "Epoch 4/5\n",
            "79/79 [==============================] - 8s 106ms/step - loss: 0.0894 - accuracy: 0.9724\n",
            "Epoch 5/5\n",
            "79/79 [==============================] - 9s 109ms/step - loss: 0.0670 - accuracy: 0.9800\n",
            "313/313 [==============================] - 3s 9ms/step\n"
          ]
        },
        {
          "output_type": "execute_result",
          "data": {
            "text/plain": [
              "0.9785"
            ]
          },
          "metadata": {},
          "execution_count": 14
        }
      ]
    }
  ]
}